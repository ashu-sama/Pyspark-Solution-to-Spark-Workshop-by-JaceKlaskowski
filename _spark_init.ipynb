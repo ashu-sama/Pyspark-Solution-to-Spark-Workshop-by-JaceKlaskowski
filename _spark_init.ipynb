{
 "cells": [
  {
   "cell_type": "code",
   "execution_count": null,
   "metadata": {},
   "outputs": [],
   "source": [
    "import findspark\n",
    "findspark.init()\n",
    "\n",
    "from pyspark.sql import SparkSession\n",
    "\n",
    "spark = (SparkSession\n",
    "            .builder\n",
    "            .appName(\"Spark_Exercises_for_Practise\")\n",
    "            .master(\"local[1]\")\n",
    "            .getOrCreate())"
   ]
  }
 ],
 "metadata": {
  "language_info": {
   "name": "python"
  }
 },
 "nbformat": 4,
 "nbformat_minor": 2
}
