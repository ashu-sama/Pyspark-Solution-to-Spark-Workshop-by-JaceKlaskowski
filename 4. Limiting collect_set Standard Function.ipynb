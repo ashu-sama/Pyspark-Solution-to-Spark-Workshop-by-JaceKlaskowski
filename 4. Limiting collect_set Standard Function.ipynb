{
 "cells": [
  {
   "cell_type": "code",
   "execution_count": 1,
   "metadata": {},
   "outputs": [],
   "source": [
    "%run _spark_init.ipynb"
   ]
  },
  {
   "cell_type": "markdown",
   "metadata": {},
   "source": [
    "- Write a structured query that limits collect_set standard function."
   ]
  },
  {
   "cell_type": "code",
   "execution_count": 26,
   "metadata": {},
   "outputs": [],
   "source": [
    "from pyspark.sql.functions import col, collect_set, slice"
   ]
  },
  {
   "cell_type": "code",
   "execution_count": 27,
   "metadata": {},
   "outputs": [
    {
     "name": "stdout",
     "output_type": "stream",
     "text": [
      "+---+---+\n",
      "| id|key|\n",
      "+---+---+\n",
      "|  0|  0|\n",
      "|  1|  1|\n",
      "|  2|  2|\n",
      "|  3|  3|\n",
      "|  4|  4|\n",
      "|  5|  0|\n",
      "|  6|  1|\n",
      "|  7|  2|\n",
      "|  8|  3|\n",
      "|  9|  4|\n",
      "| 10|  0|\n",
      "| 11|  1|\n",
      "| 12|  2|\n",
      "| 13|  3|\n",
      "| 14|  4|\n",
      "| 15|  0|\n",
      "| 16|  1|\n",
      "| 17|  2|\n",
      "| 18|  3|\n",
      "| 19|  4|\n",
      "+---+---+\n",
      "only showing top 20 rows\n",
      "\n"
     ]
    }
   ],
   "source": [
    "# Create a DataFrame with a range of values\n",
    "df = spark.range(50)\n",
    "\n",
    "# Add a new column \"key\" calculated based on the modulo operation of the \"id\" column\n",
    "df = df.withColumn(\"key\", col(\"id\") % 5)\n",
    "\n",
    "# Show the DataFrame\n",
    "df.show()"
   ]
  },
  {
   "cell_type": "code",
   "execution_count": 29,
   "metadata": {},
   "outputs": [
    {
     "name": "stdout",
     "output_type": "stream",
     "text": [
      "+---+--------------------------------------+----------------+\n",
      "|key|all                                   |only_first_three|\n",
      "+---+--------------------------------------+----------------+\n",
      "|0  |[0, 15, 30, 45, 5, 20, 35, 10, 25, 40]|[0, 15, 30]     |\n",
      "|1  |[1, 16, 31, 46, 6, 21, 36, 11, 26, 41]|[1, 16, 31]     |\n",
      "|2  |[12, 27, 37, 2, 17, 32, 42, 7, 22, 47]|[12, 27, 37]    |\n",
      "|3  |[33, 48, 13, 38, 3, 18, 28, 43, 8, 23]|[33, 48, 13]    |\n",
      "|4  |[9, 19, 34, 49, 24, 39, 4, 14, 29, 44]|[9, 19, 34]     |\n",
      "+---+--------------------------------------+----------------+\n",
      "\n"
     ]
    }
   ],
   "source": [
    "(df\n",
    ".groupBy(\"key\")\n",
    ".agg(collect_set(\"id\").alias(\"all\"))\n",
    ".withColumn(\"only_first_three\", slice(\"all\", 1, 3))\n",
    ").show(truncate=False)"
   ]
  },
  {
   "cell_type": "code",
   "execution_count": null,
   "metadata": {},
   "outputs": [],
   "source": []
  }
 ],
 "metadata": {
  "kernelspec": {
   "display_name": "Python 3",
   "language": "python",
   "name": "python3"
  },
  "language_info": {
   "codemirror_mode": {
    "name": "ipython",
    "version": 3
   },
   "file_extension": ".py",
   "mimetype": "text/x-python",
   "name": "python",
   "nbconvert_exporter": "python",
   "pygments_lexer": "ipython3",
   "version": "3.11.5"
  }
 },
 "nbformat": 4,
 "nbformat_minor": 2
}
