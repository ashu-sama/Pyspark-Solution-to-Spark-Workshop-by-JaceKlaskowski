{
 "cells": [
  {
   "cell_type": "code",
   "execution_count": 1,
   "metadata": {},
   "outputs": [],
   "source": [
    "%run _spark_init_.ipynb"
   ]
  },
  {
   "cell_type": "markdown",
   "metadata": {},
   "source": [
    "- Write a structured query that “transpose” a dataset so a new dataset uses column names and values from a struct column."
   ]
  },
  {
   "cell_type": "code",
   "execution_count": 40,
   "metadata": {},
   "outputs": [],
   "source": [
    "from pyspark.sql.types import StructType, StructField, StringType, DoubleType, ArrayType, MapType\n",
    "\n",
    "critics_data = [(\"Manuel\", [[\"Logan\", 1.5], [\"Zoolander\", 3.0], [\"John Wick\", 2.5]]),\n",
    "                (\"John\", [[\"Logan\", 2.0], [\"Zoolander\", 3.5], [\"John Wick\", 3.0]])]\n",
    "\n",
    "schema = StructType([StructField(\"name\", StringType(), True),\n",
    "                     StructField(\"movie_ratings\", ArrayType(StructType([StructField(\"movie_name\", StringType(), True),\n",
    "                                                                        StructField(\"rating\", DoubleType(), True)])), True)])\n",
    "critics_df = spark.createDataFrame(critics_data, schema)"
   ]
  },
  {
   "cell_type": "code",
   "execution_count": 41,
   "metadata": {},
   "outputs": [
    {
     "name": "stdout",
     "output_type": "stream",
     "text": [
      "+------+--------------------------------------------------+\n",
      "|name  |movie_ratings                                     |\n",
      "+------+--------------------------------------------------+\n",
      "|Manuel|[{Logan, 1.5}, {Zoolander, 3.0}, {John Wick, 2.5}]|\n",
      "|John  |[{Logan, 2.0}, {Zoolander, 3.5}, {John Wick, 3.0}]|\n",
      "+------+--------------------------------------------------+\n",
      "\n"
     ]
    }
   ],
   "source": [
    "critics_df.show(truncate=False)"
   ]
  },
  {
   "cell_type": "code",
   "execution_count": 56,
   "metadata": {},
   "outputs": [
    {
     "name": "stdout",
     "output_type": "stream",
     "text": [
      "+------+---------+-----+---------+\n",
      "|  name|John Wick|Logan|Zoolander|\n",
      "+------+---------+-----+---------+\n",
      "|  John|      3.0|  2.0|      3.5|\n",
      "|Manuel|      2.5|  1.5|      3.0|\n",
      "+------+---------+-----+---------+\n",
      "\n"
     ]
    }
   ],
   "source": [
    "from pyspark.sql.functions import first\n",
    "\n",
    "(critics_df\n",
    "    .selectExpr(\"name\",\"explode(movie_ratings) as mr\")\n",
    "    .select(\"name\", \"mr.movie_name\", \"mr.rating\")\n",
    "    .groupBy(\"name\")\n",
    "    .pivot(\"movie_name\")\n",
    "    .agg(first(\"rating\"))\n",
    "    .show()\n",
    ")"
   ]
  },
  {
   "cell_type": "code",
   "execution_count": null,
   "metadata": {},
   "outputs": [],
   "source": []
  }
 ],
 "metadata": {
  "kernelspec": {
   "display_name": "Python 3",
   "language": "python",
   "name": "python3"
  },
  "language_info": {
   "codemirror_mode": {
    "name": "ipython",
    "version": 3
   },
   "file_extension": ".py",
   "mimetype": "text/x-python",
   "name": "python",
   "nbconvert_exporter": "python",
   "pygments_lexer": "ipython3",
   "version": "3.11.5"
  }
 },
 "nbformat": 4,
 "nbformat_minor": 2
}
