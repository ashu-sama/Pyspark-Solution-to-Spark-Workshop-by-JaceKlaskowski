{
 "cells": [
  {
   "cell_type": "code",
   "execution_count": 1,
   "metadata": {},
   "outputs": [],
   "source": [
    "%run _spark_init.ipynb"
   ]
  },
  {
   "cell_type": "markdown",
   "metadata": {},
   "source": [
    "- Write a structured query that “merges” two rows of the same id (to replace nulls)."
   ]
  },
  {
   "cell_type": "code",
   "execution_count": 5,
   "metadata": {},
   "outputs": [
    {
     "name": "stdout",
     "output_type": "stream",
     "text": [
      "+---+-----+----+--------+\n",
      "| id| name| age|    city|\n",
      "+---+-----+----+--------+\n",
      "|100| John|  35|    NULL|\n",
      "|100| John|NULL| Georgia|\n",
      "|101| Mike|  25|    NULL|\n",
      "|101| Mike|NULL|New York|\n",
      "|103| Mary|  22|    NULL|\n",
      "|103| Mary|NULL|   Texas|\n",
      "|104|Smith|  25|    NULL|\n",
      "|105| Jake|NULL| Florida|\n",
      "+---+-----+----+--------+\n",
      "\n"
     ]
    }
   ],
   "source": [
    "input = (\n",
    "  (100,\"John\",35,None),\n",
    "  (100,\"John\",None,\"Georgia\"),\n",
    "  (101,\"Mike\",25,None),\n",
    "  (101,\"Mike\",None,\"New York\"),\n",
    "  (103,\"Mary\",22,None),\n",
    "  (103,\"Mary\",None,\"Texas\"),\n",
    "  (104,\"Smith\",25,None),\n",
    "  (105,\"Jake\",None,\"Florida\"))\n",
    "\n",
    "schema = \"id int, name string, age int, city string\"\n",
    "\n",
    "df = spark.createDataFrame(input, schema)\n",
    "df.show()"
   ]
  },
  {
   "cell_type": "code",
   "execution_count": 8,
   "metadata": {},
   "outputs": [],
   "source": [
    "from pyspark.sql.functions import max"
   ]
  },
  {
   "cell_type": "code",
   "execution_count": 9,
   "metadata": {},
   "outputs": [
    {
     "name": "stdout",
     "output_type": "stream",
     "text": [
      "+---+-----+----+--------+\n",
      "| id| name| age|    city|\n",
      "+---+-----+----+--------+\n",
      "|100| John|  35| Georgia|\n",
      "|101| Mike|  25|New York|\n",
      "|103| Mary|  22|   Texas|\n",
      "|104|Smith|  25|    NULL|\n",
      "|105| Jake|NULL| Florida|\n",
      "+---+-----+----+--------+\n",
      "\n"
     ]
    }
   ],
   "source": [
    "df.groupBy(\"id\", \"name\").agg(max(\"age\").alias(\"age\"), max(\"city\").alias(\"city\")).show()"
   ]
  },
  {
   "cell_type": "code",
   "execution_count": null,
   "metadata": {},
   "outputs": [],
   "source": []
  }
 ],
 "metadata": {
  "kernelspec": {
   "display_name": "Python 3",
   "language": "python",
   "name": "python3"
  },
  "language_info": {
   "codemirror_mode": {
    "name": "ipython",
    "version": 3
   },
   "file_extension": ".py",
   "mimetype": "text/x-python",
   "name": "python",
   "nbconvert_exporter": "python",
   "pygments_lexer": "ipython3",
   "version": "3.11.5"
  }
 },
 "nbformat": 4,
 "nbformat_minor": 2
}
