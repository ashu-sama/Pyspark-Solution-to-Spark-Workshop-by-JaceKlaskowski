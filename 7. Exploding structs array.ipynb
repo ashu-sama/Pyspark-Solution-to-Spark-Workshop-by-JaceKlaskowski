{
 "cells": [
  {
   "cell_type": "code",
   "execution_count": 1,
   "metadata": {},
   "outputs": [],
   "source": [
    "%run _spark_init.ipynb"
   ]
  },
  {
   "cell_type": "markdown",
   "metadata": {},
   "source": [
    "- Write a structured query that “explodes” an array of structs (of open and close hours)."
   ]
  },
  {
   "cell_type": "code",
   "execution_count": 11,
   "metadata": {},
   "outputs": [],
   "source": [
    "from pyspark.sql.types import StructType, StructField, StringType, ArrayType"
   ]
  },
  {
   "cell_type": "code",
   "execution_count": 22,
   "metadata": {},
   "outputs": [],
   "source": [
    "data = [{\n",
    "  \"business_id\": \"abc\",\n",
    "  \"full_address\": \"random_address\",\n",
    "  \"hours\": {\n",
    "    \"Monday\": {\n",
    "      \"close\": \"02:00\",\n",
    "      \"open\": \"11:00\"\n",
    "    },\n",
    "    \"Tuesday\": {\n",
    "      \"close\": \"02:00\",\n",
    "      \"open\": \"11:00\"\n",
    "    },\n",
    "    \"Friday\": {\n",
    "      \"close\": \"02:00\",\n",
    "      \"open\": \"11:00\"\n",
    "    },\n",
    "    \"Wednesday\": {\n",
    "      \"close\": \"02:00\",\n",
    "      \"open\": \"11:00\"\n",
    "    },\n",
    "    \"Thursday\": {\n",
    "      \"close\": \"02:00\",\n",
    "      \"open\": \"11:00\"\n",
    "    },\n",
    "    \"Sunday\": {\n",
    "      \"close\": \"00:00\",\n",
    "      \"open\": \"11:00\"\n",
    "    },\n",
    "    \"Saturday\": {\n",
    "      \"close\": \"02:00\",\n",
    "      \"open\": \"11:00\"\n",
    "    }\n",
    "  }\n",
    "}]\n",
    "\n",
    "hours_schema = StructType([StructField(\"close\", StringType(), True),\n",
    "                           StructField(\"open\", StringType(), True)])\n",
    "\n",
    "schema = StructType([StructField(\"business_id\", StringType(), True),\n",
    "                     StructField(\"full_address\", StringType(), True),\n",
    "                     StructField(\"hours\", ArrayType(hours_schema), True)])\n",
    "\n",
    "df = spark.createDataFrame(data)"
   ]
  },
  {
   "cell_type": "code",
   "execution_count": 23,
   "metadata": {},
   "outputs": [
    {
     "name": "stdout",
     "output_type": "stream",
     "text": [
      "+-----------+--------------+---------------------------------------------------------------------------------------------------------------------------------------------------------------------------------------------------------------------------------------------------------------------------------------------------------------------+\n",
      "|business_id|full_address  |hours                                                                                                                                                                                                                                                                                                                |\n",
      "+-----------+--------------+---------------------------------------------------------------------------------------------------------------------------------------------------------------------------------------------------------------------------------------------------------------------------------------------------------------------+\n",
      "|abc        |random_address|{Thursday -> {close -> 02:00, open -> 11:00}, Monday -> {close -> 02:00, open -> 11:00}, Friday -> {close -> 02:00, open -> 11:00}, Sunday -> {close -> 00:00, open -> 11:00}, Wednesday -> {close -> 02:00, open -> 11:00}, Tuesday -> {close -> 02:00, open -> 11:00}, Saturday -> {close -> 02:00, open -> 11:00}}|\n",
      "+-----------+--------------+---------------------------------------------------------------------------------------------------------------------------------------------------------------------------------------------------------------------------------------------------------------------------------------------------------------------+\n",
      "\n"
     ]
    }
   ],
   "source": [
    "df.show(truncate=False)"
   ]
  },
  {
   "cell_type": "code",
   "execution_count": 42,
   "metadata": {},
   "outputs": [
    {
     "name": "stdout",
     "output_type": "stream",
     "text": [
      "+-----------+--------------+---------+---------+----------+\n",
      "|business_id|  full_address|      day|open_time|close_time|\n",
      "+-----------+--------------+---------+---------+----------+\n",
      "|        abc|random_address|   Friday|    11:00|     02:00|\n",
      "|        abc|random_address|   Monday|    11:00|     02:00|\n",
      "|        abc|random_address| Saturday|    11:00|     02:00|\n",
      "|        abc|random_address|   Sunday|    11:00|     00:00|\n",
      "|        abc|random_address| Thursday|    11:00|     02:00|\n",
      "|        abc|random_address|  Tuesday|    11:00|     02:00|\n",
      "|        abc|random_address|Wednesday|    11:00|     02:00|\n",
      "+-----------+--------------+---------+---------+----------+\n",
      "\n"
     ]
    }
   ],
   "source": [
    "from pyspark.sql.functions import col, explode\n",
    "\n",
    "(df\n",
    "  .select(\"business_id\", \"full_address\", explode(\"hours\").alias(\"day\", \"hours\"))\n",
    "  .withColumns({\"open_time\": col(\"hours\").open, \"close_time\": col(\"hours\").close})\n",
    "  .drop(\"hours\")\n",
    "  .orderBy(\"day\")\n",
    ").show()"
   ]
  },
  {
   "cell_type": "code",
   "execution_count": null,
   "metadata": {},
   "outputs": [],
   "source": []
  }
 ],
 "metadata": {
  "kernelspec": {
   "display_name": "Python 3",
   "language": "python",
   "name": "python3"
  },
  "language_info": {
   "codemirror_mode": {
    "name": "ipython",
    "version": 3
   },
   "file_extension": ".py",
   "mimetype": "text/x-python",
   "name": "python",
   "nbconvert_exporter": "python",
   "pygments_lexer": "ipython3",
   "version": "3.11.5"
  }
 },
 "nbformat": 4,
 "nbformat_minor": 2
}
