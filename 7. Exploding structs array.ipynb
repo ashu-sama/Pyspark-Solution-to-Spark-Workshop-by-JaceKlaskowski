{
 "cells": [
  {
   "cell_type": "code",
   "execution_count": 0,
   "metadata": {
    "application/vnd.databricks.v1+cell": {
     "cellMetadata": {},
     "inputWidgets": {},
     "nuid": "a4c6aca8-6f19-440e-ac7f-d9dba3b1ae68",
     "showTitle": false,
     "tableResultSettingsMap": {},
     "title": ""
    }
   },
   "outputs": [],
   "source": [
    "%run _spark_init.ipynb"
   ]
  },
  {
   "cell_type": "markdown",
   "metadata": {
    "application/vnd.databricks.v1+cell": {
     "cellMetadata": {},
     "inputWidgets": {},
     "nuid": "16e427fd-c7ed-4e98-8e45-c3c81439b0c2",
     "showTitle": false,
     "tableResultSettingsMap": {},
     "title": ""
    }
   },
   "source": [
    "- Write a structured query that “explodes” an array of structs (of open and close hours)."
   ]
  },
  {
   "cell_type": "code",
   "execution_count": 0,
   "metadata": {
    "application/vnd.databricks.v1+cell": {
     "cellMetadata": {
      "byteLimit": 2048000,
      "rowLimit": 10000
     },
     "inputWidgets": {},
     "nuid": "6263e22b-9b0a-418a-a9dd-fe306dfe06a9",
     "showTitle": false,
     "tableResultSettingsMap": {},
     "title": ""
    }
   },
   "outputs": [],
   "source": [
    "from pyspark.sql.types import StructType, StructField, StringType, ArrayType"
   ]
  },
  {
   "cell_type": "code",
   "execution_count": 0,
   "metadata": {
    "application/vnd.databricks.v1+cell": {
     "cellMetadata": {
      "byteLimit": 2048000,
      "rowLimit": 10000
     },
     "inputWidgets": {},
     "nuid": "f26995dc-09be-4d75-aec9-218838247490",
     "showTitle": false,
     "tableResultSettingsMap": {},
     "title": ""
    }
   },
   "outputs": [],
   "source": [
    "data = [{\n",
    "  \"business_id\": \"abc\",\n",
    "  \"full_address\": \"random_address\",\n",
    "  \"hours\": {\n",
    "    \"Monday\": {\n",
    "      \"close\": \"02:00\",\n",
    "      \"open\": \"11:00\"\n",
    "    },\n",
    "    \"Tuesday\": {\n",
    "      \"close\": \"02:00\",\n",
    "      \"open\": \"11:00\"\n",
    "    },\n",
    "    \"Friday\": {\n",
    "      \"close\": \"02:00\",\n",
    "      \"open\": \"11:00\"\n",
    "    },\n",
    "    \"Wednesday\": {\n",
    "      \"close\": \"02:00\",\n",
    "      \"open\": \"11:00\"\n",
    "    },\n",
    "    \"Thursday\": {\n",
    "      \"close\": \"02:00\",\n",
    "      \"open\": \"11:00\"\n",
    "    },\n",
    "    \"Sunday\": {\n",
    "      \"close\": \"00:00\",\n",
    "      \"open\": \"11:00\"\n",
    "    },\n",
    "    \"Saturday\": {\n",
    "      \"close\": \"02:00\",\n",
    "      \"open\": \"11:00\"\n",
    "    }\n",
    "  }\n",
    "}]\n",
    "\n",
    "hours_schema = StructType([StructField(\"close\", StringType(), True),\n",
    "                           StructField(\"open\", StringType(), True)])\n",
    "\n",
    "schema = StructType([StructField(\"business_id\", StringType(), True),\n",
    "                     StructField(\"full_address\", StringType(), True),\n",
    "                     StructField(\"hours\", ArrayType(hours_schema), True)])\n",
    "\n",
    "df = spark.createDataFrame(data)"
   ]
  },
  {
   "cell_type": "code",
   "execution_count": 0,
   "metadata": {
    "application/vnd.databricks.v1+cell": {
     "cellMetadata": {
      "byteLimit": 2048000,
      "rowLimit": 10000
     },
     "inputWidgets": {},
     "nuid": "a247b38e-fe45-410c-81ee-2e1e5eccfafb",
     "showTitle": false,
     "tableResultSettingsMap": {},
     "title": ""
    }
   },
   "outputs": [],
   "source": [
    "df.show(truncate=False)"
   ]
  },
  {
   "cell_type": "code",
   "execution_count": 0,
   "metadata": {
    "application/vnd.databricks.v1+cell": {
     "cellMetadata": {
      "byteLimit": 2048000,
      "rowLimit": 10000
     },
     "inputWidgets": {},
     "nuid": "9e4f22bf-7948-457a-b5b1-75f74cf5eadf",
     "showTitle": false,
     "tableResultSettingsMap": {},
     "title": ""
    }
   },
   "outputs": [],
   "source": [
    "from pyspark.sql.functions import col, explode\n",
    "\n",
    "(df\n",
    "  .select(\"business_id\", \"full_address\", explode(\"hours\").alias(\"day\", \"hours\"))\n",
    "  .withColumns({\"open_time\": col(\"hours\").open, \"close_time\": col(\"hours\").close})\n",
    "  .drop(\"hours\")\n",
    "  .orderBy(\"day\")\n",
    ").show()"
   ]
  },
  {
   "cell_type": "code",
   "execution_count": 0,
   "metadata": {
    "application/vnd.databricks.v1+cell": {
     "cellMetadata": {},
     "inputWidgets": {},
     "nuid": "9f00bc77-7d93-443a-baa5-1698c34016fd",
     "showTitle": false,
     "tableResultSettingsMap": {},
     "title": ""
    }
   },
   "outputs": [],
   "source": []
  }
 ],
 "metadata": {
  "application/vnd.databricks.v1+notebook": {
   "computePreferences": null,
   "dashboards": [],
   "environmentMetadata": null,
   "inputWidgetPreferences": null,
   "language": "python",
   "notebookMetadata": {
    "pythonIndentUnit": 4
   },
   "notebookName": "7. Exploding structs array",
   "widgets": {}
  },
  "kernelspec": {
   "display_name": "Python 3",
   "language": "python",
   "name": "python3"
  },
  "language_info": {
   "name": "python"
  }
 },
 "nbformat": 4,
 "nbformat_minor": 0
}
