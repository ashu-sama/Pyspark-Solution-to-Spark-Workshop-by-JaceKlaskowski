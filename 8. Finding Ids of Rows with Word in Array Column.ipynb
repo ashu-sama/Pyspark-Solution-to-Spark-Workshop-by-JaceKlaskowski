{
 "cells": [
  {
   "cell_type": "markdown",
   "metadata": {
    "application/vnd.databricks.v1+cell": {
     "cellMetadata": {},
     "inputWidgets": {},
     "nuid": "85ae1704-2044-447d-b340-a27c5b4cd88b",
     "showTitle": false,
     "tableResultSettingsMap": {},
     "title": ""
    }
   },
   "source": [
    "- Finds the ids of the rows that have values of one column in an array column.\n",
    "- Protip™: Use split and explode standard functions"
   ]
  },
  {
   "cell_type": "markdown",
   "metadata": {
    "application/vnd.databricks.v1+cell": {
     "cellMetadata": {
      "byteLimit": 2048000,
      "rowLimit": 10000
     },
     "inputWidgets": {},
     "nuid": "da829b4f-f1fd-4f0e-b8b4-bf178b90bc8b",
     "showTitle": false,
     "tableResultSettingsMap": {},
     "title": ""
    }
   },
   "source": [
    "- Input Dataset\n",
    "| id|             words| word|\n",
    "|---|------------------|-----|\n",
    "|  1|     one,two,three|  one|\n",
    "|  2|     four,one,five|  six|\n",
    "|  3|seven,nine,one,two|eight|\n",
    "|  4|    two,three,five| five|\n",
    "|  5|      six,five,one|seven|\n",
    "\n",
    "- Output\n",
    "|    w|         ids|\n",
    "|-----|------------|\n",
    "| five|   [2, 4, 5]|\n",
    "|  one|[1, 2, 3, 5]|\n",
    "|seven|         [3]|\n",
    "|  six|         [5]|\n",
    "\n",
    " > - The word “one” is in the rows with the ids 1, 2, 3 and 5.\n",
    " > - The word “seven” is in the row with the id 3."
   ]
  },
  {
   "cell_type": "code",
   "execution_count": 0,
   "metadata": {
    "application/vnd.databricks.v1+cell": {
     "cellMetadata": {
      "byteLimit": 2048000,
      "rowLimit": 10000
     },
     "inputWidgets": {},
     "nuid": "b92d1ac3-02d5-452b-ad80-2619422ccbf9",
     "showTitle": false,
     "tableResultSettingsMap": {},
     "title": ""
    }
   },
   "outputs": [],
   "source": [
    "from pyspark.sql.types import StructType, StructField, StringType, ArrayType, IntegerType\n"
   ]
  },
  {
   "cell_type": "code",
   "execution_count": 0,
   "metadata": {
    "application/vnd.databricks.v1+cell": {
     "cellMetadata": {
      "byteLimit": 2048000,
      "rowLimit": 10000
     },
     "inputWidgets": {},
     "nuid": "25f60dcc-2808-4570-bbcd-e44379a11c9a",
     "showTitle": false,
     "tableResultSettingsMap": {},
     "title": ""
    }
   },
   "outputs": [],
   "source": [
    "data = [\n",
    "    (1, \"one,two,three\", \"one\"),\n",
    "    (2, \"four,one,five\", \"six\"),\n",
    "    (3, \"seven,nine,one,two\", \"eight\"),\n",
    "    (4, \"two,three,five\", \"five\"),\n",
    "    (5, \"six,five,one\", \"seven\")\n",
    "]\n",
    "\n",
    "columns = [\"id\", \"words\", \"word\"]\n",
    "\n",
    "df = spark.createDataFrame(data, columns)"
   ]
  },
  {
   "cell_type": "code",
   "execution_count": 0,
   "metadata": {
    "application/vnd.databricks.v1+cell": {
     "cellMetadata": {
      "byteLimit": 2048000,
      "rowLimit": 10000
     },
     "inputWidgets": {},
     "nuid": "f3ff5172-dc7f-4c43-bede-5bfca4dc7540",
     "showTitle": false,
     "tableResultSettingsMap": {},
     "title": ""
    }
   },
   "outputs": [],
   "source": [
    "df.show()"
   ]
  },
  {
   "cell_type": "markdown",
   "metadata": {
    "application/vnd.databricks.v1+cell": {
     "cellMetadata": {},
     "inputWidgets": {},
     "nuid": "9a554429-fd65-43d3-8ca3-da22f6092be5",
     "showTitle": false,
     "tableResultSettingsMap": {},
     "title": ""
    }
   },
   "source": [
    "- Solution: Finds the ids of the rows that have values of one column in an array column."
   ]
  },
  {
   "cell_type": "code",
   "execution_count": 0,
   "metadata": {
    "application/vnd.databricks.v1+cell": {
     "cellMetadata": {
      "byteLimit": 2048000,
      "rowLimit": 10000
     },
     "inputWidgets": {},
     "nuid": "f0d11b02-db96-4ecf-b933-a1c86ea76336",
     "showTitle": false,
     "tableResultSettingsMap": {},
     "title": ""
    }
   },
   "outputs": [],
   "source": [
    "from pyspark.sql.functions import col, explode, split, collect_list"
   ]
  },
  {
   "cell_type": "code",
   "execution_count": 0,
   "metadata": {
    "application/vnd.databricks.v1+cell": {
     "cellMetadata": {
      "byteLimit": 2048000,
      "rowLimit": 10000
     },
     "inputWidgets": {},
     "nuid": "76c023fa-521b-477c-9619-cd96c28332b0",
     "showTitle": false,
     "tableResultSettingsMap": {},
     "title": ""
    }
   },
   "outputs": [],
   "source": [
    "df_exploded = df.withColumn(\"w\", explode(split(col(\"words\"), \",\")))\n",
    "df_exploded.show()"
   ]
  },
  {
   "cell_type": "code",
   "execution_count": 0,
   "metadata": {
    "application/vnd.databricks.v1+cell": {
     "cellMetadata": {
      "byteLimit": 2048000,
      "rowLimit": 10000
     },
     "inputWidgets": {},
     "nuid": "d74cc27a-848a-4666-89e8-16b407f2ebe8",
     "showTitle": false,
     "tableResultSettingsMap": {},
     "title": ""
    }
   },
   "outputs": [],
   "source": [
    "target_words = df.select(\"word\").distinct()\n",
    "\n",
    "target_words.show()"
   ]
  },
  {
   "cell_type": "code",
   "execution_count": 0,
   "metadata": {
    "application/vnd.databricks.v1+cell": {
     "cellMetadata": {
      "byteLimit": 2048000,
      "rowLimit": 10000
     },
     "inputWidgets": {},
     "nuid": "411b6e7c-3a56-4769-8d81-9dbed4a6fc45",
     "showTitle": false,
     "tableResultSettingsMap": {},
     "title": ""
    }
   },
   "outputs": [],
   "source": [
    "result = df_exploded.join(target_words, df_exploded.w == target_words.word) \\\n",
    "                    .groupBy(\"w\") \\\n",
    "                    .agg(collect_list(\"id\").alias(\"ids\"))\n",
    "\n",
    "result.orderBy(\"w\").show(truncate=False)"
   ]
  }
 ],
 "metadata": {
  "application/vnd.databricks.v1+notebook": {
   "computePreferences": null,
   "dashboards": [],
   "environmentMetadata": {
    "base_environment": "",
    "environment_version": "2"
   },
   "inputWidgetPreferences": null,
   "language": "python",
   "notebookMetadata": {
    "pythonIndentUnit": 4
   },
   "notebookName": "8. Finding Ids of Rows with Word in Array Column",
   "widgets": {}
  },
  "language_info": {
   "name": "python"
  }
 },
 "nbformat": 4,
 "nbformat_minor": 0
}
